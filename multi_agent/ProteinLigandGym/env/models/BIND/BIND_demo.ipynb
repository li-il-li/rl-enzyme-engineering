{
 "cells": [
  {
   "cell_type": "markdown",
   "id": "4c301ce6-33c9-4ea3-8e8c-5ddf41e496f7",
   "metadata": {},
   "source": [
    "![Logo](https://github.com/Chokyotager/BIND/blob/main/art/abstract.png?raw=true)\n",
    "## BIND API practical demonstration\n",
    "As part of the manuscript \"*Protein language models are performant in structure-free virtual screening*\".\n",
    "\n",
    "**This notebook will go through the following:**\n",
    "1. Encoding SMILES into BIND molecular graphs\n",
    "2. Encoding protein sequences into ESM-2 embeddings\n",
    "3. Running the BIND model"
   ]
  },
  {
   "cell_type": "code",
   "execution_count": null,
   "id": "c7ffa516-f9c2-4555-84ef-ace7b464e717",
   "metadata": {},
   "outputs": [],
   "source": [
    "# Import libraries and set environment variables\n",
    "\n",
    "import torch\n",
    "from torch_geometric.utils.sparse import dense_to_sparse\n",
    "from torch_geometric.data import Data, Batch\n",
    "\n",
    "from transformers import AutoModel, AutoTokenizer\n",
    "\n",
    "import math\n",
    "import logging\n",
    "\n",
    "logging.getLogger(\"pysmiles\").setLevel(logging.CRITICAL)\n",
    "\n",
    "# BIND API\n",
    "import loading\n",
    "from data import BondType\n",
    "\n",
    "# PyTorch device\n",
    "device = torch.device(\"cpu\")"
   ]
  },
  {
   "cell_type": "code",
   "execution_count": null,
   "id": "b1fcfb47-9c3a-4692-a724-197fe2d25bfd",
   "metadata": {},
   "outputs": [],
   "source": [
    "# We define the SMILES and protein sequence we want to run\n",
    "\n",
    "smiles = \"SC[C@H](C(=O)N1[C@@H](CCC1)C(=O)[O-])C\"\n",
    "protein_sequence = \"MGAASGRRGPGLLLPLPLLLLLPPQPALALDPGLQPGNFSADEAGAQLFAQSYNSSAEQVLFQSVAASWAHDTNITAENARRQEEAALLSQEFAEAWGQKAKELYEPIWQNFTDPQLRRI\""
   ]
  },
  {
   "cell_type": "markdown",
   "id": "9b937a8a-7b67-4c14-a033-c80f51f7b22d",
   "metadata": {},
   "source": [
    "#### Part 1: Encoding SMILES into BIND molecular graphs\n",
    "This part here is to change your molecule into a format that BIND can accept. In this case, a PyG Data object."
   ]
  },
  {
   "cell_type": "code",
   "execution_count": null,
   "id": "fee0c82f-8693-4eb0-8e2d-43e73cba30d1",
   "metadata": {},
   "outputs": [],
   "source": [
    "def get_graph (smiles):\n",
    "\n",
    "    graph = loading.get_data(smiles, apply_paths=False, parse_cis_trans=False, unknown_atom_is_dummy=True)\n",
    "    x, a, e = loading.convert(*graph, bonds=[BondType.SINGLE, BondType.DOUBLE, BondType.TRIPLE, BondType.AROMATIC, BondType.NOT_CONNECTED])\n",
    "\n",
    "    x = torch.Tensor(x)\n",
    "    a = dense_to_sparse(torch.Tensor(a))[0]\n",
    "    e = torch.Tensor(e)\n",
    "\n",
    "    # Given an xae\n",
    "    graph = Data(x=x, edge_index=a, edge_features=e)\n",
    "\n",
    "    return graph"
   ]
  },
  {
   "cell_type": "code",
   "execution_count": null,
   "id": "e6ed4ebc-2261-4778-b91c-cb424e959719",
   "metadata": {},
   "outputs": [],
   "source": [
    "smiles_graph = get_graph(smiles)\n",
    "\n",
    "# Conversion into a PyG Batch object\n",
    "graph = Batch.from_data_list([smiles_graph]).to(device).detach()"
   ]
  },
  {
   "cell_type": "markdown",
   "id": "dfd17ee3-9ef2-4e50-a9bd-9f8f4bda24ac",
   "metadata": {},
   "source": [
    "### Part 2: Encoding protein sequences into ESM-2 embeddings\n",
    "This part here goes through how to embed the protein sequence"
   ]
  },
  {
   "cell_type": "code",
   "execution_count": null,
   "id": "3a3bc73b-2b54-4eba-bd16-334c5fa5e453",
   "metadata": {},
   "outputs": [],
   "source": [
    "# Load the ESM-2 model\n",
    "esm_tokeniser = AutoTokenizer.from_pretrained(\"facebook/esm2_t33_650M_UR50D\")\n",
    "esm_model = AutoModel.from_pretrained(\"facebook/esm2_t33_650M_UR50D\")\n",
    "\n",
    "esm_model.eval()\n",
    "\n",
    "esm_model = esm_model.to(device)"
   ]
  },
  {
   "cell_type": "code",
   "execution_count": null,
   "id": "5901ef0a-dbe8-449e-a897-35c6d561bcd7",
   "metadata": {},
   "outputs": [],
   "source": [
    "# This part here tokenises and encodes as per ESM-2\n",
    "encoded_input = esm_tokeniser([protein_sequence], padding=\"longest\", truncation=False, return_tensors=\"pt\")\n",
    "esm_output = esm_model.forward(**encoded_input.to(device), output_hidden_states=True)\n",
    "hidden_states = esm_output.hidden_states\n",
    "\n",
    "# Obtain the embeddings from ESM-2 here, together with an attention mask,\n",
    "# which is useful in the event you want to use a batch size of > 1\n",
    "hidden_states = [x.to(device).detach() for x in hidden_states]\n",
    "attention_mask = encoded_input[\"attention_mask\"].to(device)"
   ]
  },
  {
   "cell_type": "markdown",
   "id": "99d301f4-6a85-4c58-9371-570142c83350",
   "metadata": {},
   "source": [
    "### Part 3: running the BIND model\n",
    "\n",
    "Putting everything together"
   ]
  },
  {
   "cell_type": "code",
   "execution_count": null,
   "id": "0df5e90d-7a5c-4cd6-bba8-6a2301e7deba",
   "metadata": {},
   "outputs": [],
   "source": [
    "# Load the BIND checkpoint used in the manuscript\n",
    "\n",
    "model = torch.load(\"saves/BIND_checkpoint_12042024.pth\", map_location=device)\n",
    "\n",
    "model.eval()\n",
    "\n",
    "model = model.to(device)"
   ]
  },
  {
   "cell_type": "code",
   "execution_count": null,
   "id": "8fba664a-4f32-44eb-a2b1-378953224dae",
   "metadata": {},
   "outputs": [],
   "source": [
    "# Now you have the molecular graphs and the embeddings from ESM-2,\n",
    "# you can feed everything into the model.\n",
    "\n",
    "output = model.forward(graph, hidden_states, attention_mask)\n",
    "\n",
    "# You get a list [pKi, pIC50, pKd, pEC50, logits]\n",
    "output = [float(x.detach().cpu().numpy()[0][0]) for x in output]\n",
    "\n",
    "pki = output[0]\n",
    "pic50 = output[1]\n",
    "pkd = output[2]\n",
    "pec50 = output[3]\n",
    "logits = output[4]"
   ]
  },
  {
   "cell_type": "code",
   "execution_count": null,
   "id": "6ab8c2c4-eabb-4a90-a2c7-94d119c08b64",
   "metadata": {},
   "outputs": [],
   "source": [
    "# if you want to convert the logits into non-binder probability, use this\n",
    "\n",
    "def sigmoid(x):\n",
    "  return 1 / (1 + math.exp(-x))\n",
    "\n",
    "probability = sigmoid(logits)\n",
    "\n",
    "# Note that the higher the pKi, pIC50, pKd, pEC50, the stronger the predicted drug-target affinity\n",
    "# For the non-binder probability (and logits), it predicts whether or not a molecule is a decoy, so the lower the better"
   ]
  },
  {
   "cell_type": "markdown",
   "id": "f0353363-b1db-4ac5-9bd1-25a83ebfc0ca",
   "metadata": {},
   "source": [
    "## That's it!\n",
    "\n",
    "If you have any questions, please refer to the README for the contact details.\n",
    "\n",
    "Obligatory cat pic.\n",
    "\n",
    "![Cat pic](https://media.istockphoto.com/id/1128431903/photo/black-cat-lying-on-its-side-on-a-white-background.jpg?b=1&s=612x612&w=0&k=20&c=WYoBSh3GISwJtpFA8PwLqSsGzf3DvOBvGBWPq4PsOYM= \"Neko\")\n",
    "\n",
    "(Credit: iStockPhoto)"
   ]
  }
 ],
 "metadata": {
  "kernelspec": {
   "display_name": "Python 3 (ipykernel)",
   "language": "python",
   "name": "python3"
  },
  "language_info": {
   "codemirror_mode": {
    "name": "ipython",
    "version": 3
   },
   "file_extension": ".py",
   "mimetype": "text/x-python",
   "name": "python",
   "nbconvert_exporter": "python",
   "pygments_lexer": "ipython3",
   "version": "3.11.8"
  }
 },
 "nbformat": 4,
 "nbformat_minor": 5
}
